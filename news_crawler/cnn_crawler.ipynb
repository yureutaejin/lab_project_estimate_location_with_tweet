{
 "cells": [
  {
   "cell_type": "code",
   "execution_count": null,
   "id": "9b182dfb",
   "metadata": {},
   "outputs": [
    {
     "name": "stdout",
     "output_type": "stream",
     "text": [
      "please input location you want\n",
      "Washington DC\n"
     ]
    },
    {
     "name": "stderr",
     "output_type": "stream",
     "text": [
      "/var/folders/h8/sxlsbms534sc8_ln9tk771tr0000gn/T/ipykernel_4675/3401160020.py:10: DeprecationWarning: executable_path has been deprecated, please pass in a Service object\n",
      "  driver = webdriver.Chrome('/Users/jinyuntae/Desktop/development_tool/chromedriver')\n"
     ]
    }
   ],
   "source": [
    "from bs4 import BeautifulSoup as bs\n",
    "from selenium import webdriver\n",
    "import sys\n",
    "\n",
    "import json\n",
    "\n",
    "input_location = input(\"please input location you want\\n\")\n",
    "# 뉴스 크롤러\n",
    "locations = [input_location]\n",
    "driver = webdriver.Chrome('/Users/jinyuntae/Desktop/development_tool/chromedriver')\n",
    "\n",
    "with open('/Users/jinyuntae/Desktop/Personal_project/estimate_location_with_tweet/data/news_data/1_result_data/1_2018_CNNtest_{}.json'.format(input_location),'a',encoding='utf-8') as tf:\n",
    "    sys.stdout = tf\n",
    "    print(\"{\\\"Location\\\":[\")\n",
    "    # 10000개이상 검색이 안됨.\n",
    "    for loc in locations:\n",
    "        driver.get('https://edition.cnn.com/search/?size=10&q=' +loc+ '&from=' + str(5460) + '&page=' + str(547))\n",
    "        soup = bs(driver.page_source, 'html.parser')\n",
    "        rangenum = soup.find(\"div\", {\"class\": \"cnn-search__results-count\"}).text\n",
    "        crawlrange = int(rangenum.split(\" \")[5])\n",
    "\n",
    "        crawlrange = int(crawlrange / 10) + 1\n",
    "        print(\"{\\\"%s\\\":[\"%(loc))\n",
    "        #문제점 --> 10000개 이상 못넘감...........\n",
    "\n",
    "        for i in range(547,crawlrange):\n",
    "            pagenum = str(i)\n",
    "\n",
    "            URL = 'https://edition.cnn.com/search/?size=10&q='+loc+'&from='+str((i-1)*10)+'&page=' + str(i)\n",
    "            driver.get(URL)\n",
    "\n",
    "            soup = bs(driver.page_source, 'html.parser')\n",
    "            result = soup.find_all(\"div\", {\"class\": \"cnn-search__result-contents\"})\n",
    "\n",
    "\n",
    "            for i in range(len(result)):\n",
    "                newslink = str(result[i].find(\"a\")[\"href\"])\n",
    "                subject = str(result[i].find(\"h3\",{\"class\":\"cnn-search__result-headline\"}).text)\n",
    "                timestamp = str(result[i].find(\"div\",{\"class\":\"cnn-search__result-publish-date\"}).text)\n",
    "                result_body = str(result[i].find(\"div\",{\"class\":\"cnn-search__result-body\"}).text)\n",
    "                newslink = newslink.replace(\"//\",\"\")\n",
    "                timestamp = timestamp.replace(\"\\n\",\"\")\n",
    "                subject = subject.replace(\"\\n\",\"\")\n",
    "                result_body = result_body.replace(\"\\n                            \",\"\")\n",
    "                result_body = result_body.replace(\"\\n                        \",\"\")\n",
    "                result_body = result_body.replace(\"\\n \",\" \")\n",
    "                result_body = result_body.replace(\"\\n\", \" \")\n",
    "                result_body = result_body.replace(\"\\n\", \" \")\n",
    "                result_body = result_body.replace(\"\\n\", \" \")\n",
    "                result_body = result_body.replace(\"\\\"\", \"\\\\\\\"\")\n",
    "                result_body = result_body.replace(\"\\'\", \"\\\\\\\\\\'\")\n",
    "                subject = subject.replace(\"\\'\",\"\\\\\\\\\\'\")\n",
    "                subject = subject.replace(\"\\\"\", \"\\\\\\\"\")\n",
    "\n",
    "\n",
    "                #data = {\"Location\": relocation, \"Title\": headline, \"Date\": date, \"text\": text, \"Link\": page_link}\n",
    "                print(\"{\\\"Title\\\":\\\"%s\\\",\\\"Date\\\":\\\"%s\\\",\\\"text\\\":\\\"%s\\\",\\\"Link\\\":\\\"%s\\\"}\"%(subject,timestamp,result_body,newslink)+\",\")\n",
    "\n",
    "        #print(result)\n",
    "        print(\"]},\")\n",
    "\n",
    "\n",
    "    print(\"]}\")"
   ]
  }
 ],
 "metadata": {
  "kernelspec": {
   "display_name": "Python 3 (ipykernel)",
   "language": "python",
   "name": "python3"
  },
  "language_info": {
   "codemirror_mode": {
    "name": "ipython",
    "version": 3
   },
   "file_extension": ".py",
   "mimetype": "text/x-python",
   "name": "python",
   "nbconvert_exporter": "python",
   "pygments_lexer": "ipython3",
   "version": "3.8.8"
  }
 },
 "nbformat": 4,
 "nbformat_minor": 5
}
